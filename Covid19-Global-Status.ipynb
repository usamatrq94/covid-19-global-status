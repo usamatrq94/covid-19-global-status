{
 "cells": [
  {
   "cell_type": "markdown",
   "metadata": {},
   "source": [
    "# Pandemic Graph"
   ]
  },
  {
   "cell_type": "markdown",
   "metadata": {},
   "source": [
    "We will start by understanding and generating a classic pandemic graph"
   ]
  },
  {
   "cell_type": "code",
   "execution_count": 41,
   "metadata": {},
   "outputs": [
    {
     "name": "stdout",
     "output_type": "stream",
     "text": [
      "Data preprocessed sucessfully\n"
     ]
    }
   ],
   "source": [
    "%run -i \"scripts/data_preprocessing.py\""
   ]
  },
  {
   "cell_type": "code",
   "execution_count": 1,
   "metadata": {},
   "outputs": [],
   "source": [
    "from sklearn.cluster import KMeans\n",
    "from numpy.random import default_rng\n",
    "import pandas as pd\n",
    "import numpy as np\n",
    "\n",
    "X = pd.read_csv('C:\\\\Users\\\\usama\\\\OneDrive\\\\Desktop\\\\github\\\\covid-19-global-status\\\\output\\\\all_data.csv')\n",
    "ykm = []\n",
    "res = []\n",
    "center = []\n",
    "\n",
    "np.random.seed(220)\n",
    "\n",
    "for x in range(0,50):\n",
    "    km = KMeans(\n",
    "    n_clusters=4, init='random',\n",
    "    n_init=500, max_iter=100, \n",
    "    tol=x*2, random_state=x\n",
    "    )\n",
    "    y_km = km.fit_predict(X)\n",
    "    ykm.append(y_km)\n",
    "    \n",
    "    cents = km.cluster_centers_\n",
    "    center.append(cents)\n",
    "    zero = (y_km == 0).sum()\n",
    "    one = (y_km == 1).sum()\n",
    "    two = (y_km == 2).sum()\n",
    "    three = (y_km == 3).sum()\n",
    "    results_tuple = (zero, one, two, three) \n",
    "    res.append(results_tuple)\n",
    "    "
   ]
  },
  {
   "cell_type": "code",
   "execution_count": 2,
   "metadata": {},
   "outputs": [],
   "source": [
    "sdev=[]\n",
    "\n",
    "for x in range(0,len(res)):\n",
    "    std = np.std(res[x])\n",
    "    sdev.append(std)"
   ]
  },
  {
   "cell_type": "code",
   "execution_count": 3,
   "metadata": {},
   "outputs": [],
   "source": [
    "res = pd.DataFrame(res)\n",
    "sdev = pd.DataFrame(sdev)\n",
    "rykm = pd.concat([res,sdev], axis=1)\n",
    "rykm.columns = ['0','1','2','3', 'Stdev']"
   ]
  },
  {
   "cell_type": "code",
   "execution_count": 4,
   "metadata": {},
   "outputs": [
    {
     "data": {
      "text/html": [
       "<div>\n",
       "<style scoped>\n",
       "    .dataframe tbody tr th:only-of-type {\n",
       "        vertical-align: middle;\n",
       "    }\n",
       "\n",
       "    .dataframe tbody tr th {\n",
       "        vertical-align: top;\n",
       "    }\n",
       "\n",
       "    .dataframe thead th {\n",
       "        text-align: right;\n",
       "    }\n",
       "</style>\n",
       "<table border=\"1\" class=\"dataframe\">\n",
       "  <thead>\n",
       "    <tr style=\"text-align: right;\">\n",
       "      <th></th>\n",
       "      <th>0</th>\n",
       "      <th>1</th>\n",
       "      <th>2</th>\n",
       "      <th>3</th>\n",
       "      <th>Stdev</th>\n",
       "    </tr>\n",
       "  </thead>\n",
       "  <tbody>\n",
       "    <tr>\n",
       "      <th>24</th>\n",
       "      <td>3</td>\n",
       "      <td>31</td>\n",
       "      <td>150</td>\n",
       "      <td>1</td>\n",
       "      <td>61.06298</td>\n",
       "    </tr>\n",
       "  </tbody>\n",
       "</table>\n",
       "</div>"
      ],
      "text/plain": [
       "    0   1    2  3     Stdev\n",
       "24  3  31  150  1  61.06298"
      ]
     },
     "execution_count": 4,
     "metadata": {},
     "output_type": "execute_result"
    }
   ],
   "source": [
    "select = rykm[(rykm['Stdev'] < np.percentile(rykm['Stdev'],5))].sort_values(by='Stdev', ascending=True)\n",
    "sel = select[select['Stdev'] == select['Stdev'].max()]\n",
    "sel"
   ]
  },
  {
   "cell_type": "code",
   "execution_count": 5,
   "metadata": {},
   "outputs": [],
   "source": [
    "y_km = ykm[sel.index[0]]"
   ]
  },
  {
   "cell_type": "code",
   "execution_count": 6,
   "metadata": {},
   "outputs": [
    {
     "name": "stdout",
     "output_type": "stream",
     "text": [
      "3 31 150 1\n"
     ]
    }
   ],
   "source": [
    "zero = (y_km == 0).sum()\n",
    "one = (y_km == 1).sum()\n",
    "two = (y_km == 2).sum()\n",
    "three = (y_km == 3).sum()\n",
    "print(zero, one, two, three)"
   ]
  },
  {
   "cell_type": "code",
   "execution_count": 7,
   "metadata": {},
   "outputs": [],
   "source": [
    "y_km = pd.DataFrame(y_km)\n",
    "results = pd.concat([X, y_km], axis=1)\n",
    "results.columns = ['Strength', 'Impact', 'Prediction']"
   ]
  },
  {
   "cell_type": "code",
   "execution_count": 8,
   "metadata": {},
   "outputs": [
    {
     "data": {
      "image/png": "[encoded data removed]",
      "text/plain": [
       "<Figure size 432x288 with 1 Axes>"
      ]
     },
     "metadata": {
      "needs_background": "light"
     },
     "output_type": "display_data"
    }
   ],
   "source": [
    "import matplotlib.pyplot as plt\n",
    "plt.scatter(results[results['Prediction'] == 0]['Impact'] ,results[results['Prediction'] == 0]['Strength'], s=20, c='red', label='C1')\n",
    "plt.scatter(results[results['Prediction'] == 1]['Impact'] ,results[results['Prediction'] == 1]['Strength'], s=20, c='blue', label='C1')\n",
    "plt.scatter(results[results['Prediction'] == 2]['Impact'] ,results[results['Prediction'] == 2]['Strength'], s=20, c='green', label='C1')\n",
    "plt.scatter(results[results['Prediction'] == 3]['Impact'] ,results[results['Prediction'] == 3]['Strength'], s=20, c='cyan', label='C1')\n",
    "\n",
    "plt.title('World Covid Cases')\n",
    "plt.xlabel('Impact')\n",
    "plt.ylabel('Strength')\n",
    "plt.savefig('graphs/kmeans.png')\n",
    "plt.show()"
   ]
  },
  {
   "cell_type": "code",
   "execution_count": null,
   "metadata": {},
   "outputs": [],
   "source": [
    "import matplotlib.pyplot as plt\n",
    "\n",
    "#plt.grid(True, which='both')\n",
    "\n",
    "#plt.axhline(y=0, color='grey')\n",
    "#plt.axvline(x=0, color='grey')\n",
    "\n",
    "plt.scatter(results[results['Prediction'] == 0]['Impact'] ,results[results['Prediction'] == 0]['Strength'], s=20, c='red', label='C1')\n",
    "plt.scatter(results[results['Prediction'] == 1]['Impact'] ,results[results['Prediction'] == 1]['Strength'], s=20, c='blue', label='C1')\n",
    "plt.scatter(results[results['Prediction'] == 2]['Impact'] ,results[results['Prediction'] == 2]['Strength'], s=20, c='green', label='C1')\n",
    "plt.scatter(results[results['Prediction'] == 3]['Impact'] ,results[results['Prediction'] == 3]['Strength'], s=20, c='cyan', label='C1')\n",
    "\n",
    "plt.title('World Covid Cases')\n",
    "plt.xlabel('Impact')\n",
    "plt.ylabel('Strength')\n",
    "\n",
    "plt.savefig('graphs/kmeans.png')\n",
    "plt.show()"
   ]
  },
  {
   "cell_type": "code",
   "execution_count": 115,
   "metadata": {},
   "outputs": [
    {
     "data": {
      "text/plain": [
       "<Figure size 432x288 with 0 Axes>"
      ]
     },
     "metadata": {},
     "output_type": "display_data"
    }
   ],
   "source": [
    "plt.draw()\n"
   ]
  },
  {
   "cell_type": "code",
   "execution_count": 65,
   "metadata": {},
   "outputs": [
    {
     "data": {
      "text/plain": [
       "array([[-5.80796703e+02,  5.74670330e+01],\n",
       "       [ 3.32436794e+00, -5.54868209e+00],\n",
       "       [ 4.95384615e+02,  4.25784615e+03],\n",
       "       [ 2.25202279e+02,  7.55612536e+01]])"
      ]
     },
     "execution_count": 65,
     "metadata": {},
     "output_type": "execute_result"
    }
   ],
   "source": []
  },
  {
   "cell_type": "code",
   "execution_count": null,
   "metadata": {},
   "outputs": [],
   "source": []
  }
 ],
 "metadata": {
  "kernelspec": {
   "display_name": "Covid19",
   "language": "python",
   "name": "covid19"
  },
  "language_info": {
   "codemirror_mode": {
    "name": "ipython",
    "version": 3
   },
   "file_extension": ".py",
   "mimetype": "text/x-python",
   "name": "python",
   "nbconvert_exporter": "python",
   "pygments_lexer": "ipython3",
   "version": "3.7.6"
  }
 },
 "nbformat": 4,
 "nbformat_minor": 4
}
